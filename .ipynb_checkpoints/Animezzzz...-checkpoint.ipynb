{
 "cells": [
  {
   "cell_type": "code",
   "execution_count": 1,
   "id": "ed4cf91a",
   "metadata": {},
   "outputs": [],
   "source": [
    "import pandas as pd\n",
    "import numpy as np"
   ]
  },
  {
   "cell_type": "code",
   "execution_count": 2,
   "id": "2b13e512",
   "metadata": {},
   "outputs": [],
   "source": [
    "anime = pd.read_csv('anime_with_synopsis.csv')"
   ]
  },
  {
   "cell_type": "code",
   "execution_count": 3,
   "id": "bf4ce305",
   "metadata": {},
   "outputs": [
    {
     "data": {
      "text/html": [
       "<div>\n",
       "<style scoped>\n",
       "    .dataframe tbody tr th:only-of-type {\n",
       "        vertical-align: middle;\n",
       "    }\n",
       "\n",
       "    .dataframe tbody tr th {\n",
       "        vertical-align: top;\n",
       "    }\n",
       "\n",
       "    .dataframe thead th {\n",
       "        text-align: right;\n",
       "    }\n",
       "</style>\n",
       "<table border=\"1\" class=\"dataframe\">\n",
       "  <thead>\n",
       "    <tr style=\"text-align: right;\">\n",
       "      <th></th>\n",
       "      <th>MAL_ID</th>\n",
       "      <th>Name</th>\n",
       "      <th>Score</th>\n",
       "      <th>Genres</th>\n",
       "      <th>sypnopsis</th>\n",
       "    </tr>\n",
       "  </thead>\n",
       "  <tbody>\n",
       "    <tr>\n",
       "      <th>0</th>\n",
       "      <td>1</td>\n",
       "      <td>Cowboy Bebop</td>\n",
       "      <td>8.78</td>\n",
       "      <td>Action, Adventure, Comedy, Drama, Sci-Fi, Space</td>\n",
       "      <td>In the year 2071, humanity has colonized sever...</td>\n",
       "    </tr>\n",
       "    <tr>\n",
       "      <th>1</th>\n",
       "      <td>5</td>\n",
       "      <td>Cowboy Bebop: Tengoku no Tobira</td>\n",
       "      <td>8.39</td>\n",
       "      <td>Action, Drama, Mystery, Sci-Fi, Space</td>\n",
       "      <td>other day, another bounty—such is the life of ...</td>\n",
       "    </tr>\n",
       "    <tr>\n",
       "      <th>2</th>\n",
       "      <td>6</td>\n",
       "      <td>Trigun</td>\n",
       "      <td>8.24</td>\n",
       "      <td>Action, Sci-Fi, Adventure, Comedy, Drama, Shounen</td>\n",
       "      <td>Vash the Stampede is the man with a $$60,000,0...</td>\n",
       "    </tr>\n",
       "    <tr>\n",
       "      <th>3</th>\n",
       "      <td>7</td>\n",
       "      <td>Witch Hunter Robin</td>\n",
       "      <td>7.27</td>\n",
       "      <td>Action, Mystery, Police, Supernatural, Drama, ...</td>\n",
       "      <td>ches are individuals with special powers like ...</td>\n",
       "    </tr>\n",
       "    <tr>\n",
       "      <th>4</th>\n",
       "      <td>8</td>\n",
       "      <td>Bouken Ou Beet</td>\n",
       "      <td>6.98</td>\n",
       "      <td>Adventure, Fantasy, Shounen, Supernatural</td>\n",
       "      <td>It is the dark century and the people are suff...</td>\n",
       "    </tr>\n",
       "  </tbody>\n",
       "</table>\n",
       "</div>"
      ],
      "text/plain": [
       "   MAL_ID                             Name Score  \\\n",
       "0       1                     Cowboy Bebop  8.78   \n",
       "1       5  Cowboy Bebop: Tengoku no Tobira  8.39   \n",
       "2       6                           Trigun  8.24   \n",
       "3       7               Witch Hunter Robin  7.27   \n",
       "4       8                   Bouken Ou Beet  6.98   \n",
       "\n",
       "                                              Genres  \\\n",
       "0    Action, Adventure, Comedy, Drama, Sci-Fi, Space   \n",
       "1              Action, Drama, Mystery, Sci-Fi, Space   \n",
       "2  Action, Sci-Fi, Adventure, Comedy, Drama, Shounen   \n",
       "3  Action, Mystery, Police, Supernatural, Drama, ...   \n",
       "4          Adventure, Fantasy, Shounen, Supernatural   \n",
       "\n",
       "                                           sypnopsis  \n",
       "0  In the year 2071, humanity has colonized sever...  \n",
       "1  other day, another bounty—such is the life of ...  \n",
       "2  Vash the Stampede is the man with a $$60,000,0...  \n",
       "3  ches are individuals with special powers like ...  \n",
       "4  It is the dark century and the people are suff...  "
      ]
     },
     "execution_count": 3,
     "metadata": {},
     "output_type": "execute_result"
    }
   ],
   "source": [
    "anime.head()"
   ]
  },
  {
   "cell_type": "code",
   "execution_count": 4,
   "id": "93eae563",
   "metadata": {},
   "outputs": [],
   "source": [
    "# anime['tags'] = anime['Genres'] + anime['sypnopsis']"
   ]
  },
  {
   "cell_type": "code",
   "execution_count": 6,
   "id": "7919c9aa",
   "metadata": {},
   "outputs": [
    {
     "data": {
      "text/html": [
       "<div>\n",
       "<style scoped>\n",
       "    .dataframe tbody tr th:only-of-type {\n",
       "        vertical-align: middle;\n",
       "    }\n",
       "\n",
       "    .dataframe tbody tr th {\n",
       "        vertical-align: top;\n",
       "    }\n",
       "\n",
       "    .dataframe thead th {\n",
       "        text-align: right;\n",
       "    }\n",
       "</style>\n",
       "<table border=\"1\" class=\"dataframe\">\n",
       "  <thead>\n",
       "    <tr style=\"text-align: right;\">\n",
       "      <th></th>\n",
       "      <th>MAL_ID</th>\n",
       "      <th>Name</th>\n",
       "      <th>Score</th>\n",
       "      <th>Genres</th>\n",
       "      <th>sypnopsis</th>\n",
       "    </tr>\n",
       "  </thead>\n",
       "  <tbody>\n",
       "    <tr>\n",
       "      <th>0</th>\n",
       "      <td>1</td>\n",
       "      <td>Cowboy Bebop</td>\n",
       "      <td>8.78</td>\n",
       "      <td>Action, Adventure, Comedy, Drama, Sci-Fi, Space</td>\n",
       "      <td>In the year 2071, humanity has colonized sever...</td>\n",
       "    </tr>\n",
       "    <tr>\n",
       "      <th>1</th>\n",
       "      <td>5</td>\n",
       "      <td>Cowboy Bebop: Tengoku no Tobira</td>\n",
       "      <td>8.39</td>\n",
       "      <td>Action, Drama, Mystery, Sci-Fi, Space</td>\n",
       "      <td>other day, another bounty—such is the life of ...</td>\n",
       "    </tr>\n",
       "    <tr>\n",
       "      <th>2</th>\n",
       "      <td>6</td>\n",
       "      <td>Trigun</td>\n",
       "      <td>8.24</td>\n",
       "      <td>Action, Sci-Fi, Adventure, Comedy, Drama, Shounen</td>\n",
       "      <td>Vash the Stampede is the man with a $$60,000,0...</td>\n",
       "    </tr>\n",
       "    <tr>\n",
       "      <th>3</th>\n",
       "      <td>7</td>\n",
       "      <td>Witch Hunter Robin</td>\n",
       "      <td>7.27</td>\n",
       "      <td>Action, Mystery, Police, Supernatural, Drama, ...</td>\n",
       "      <td>ches are individuals with special powers like ...</td>\n",
       "    </tr>\n",
       "    <tr>\n",
       "      <th>4</th>\n",
       "      <td>8</td>\n",
       "      <td>Bouken Ou Beet</td>\n",
       "      <td>6.98</td>\n",
       "      <td>Adventure, Fantasy, Shounen, Supernatural</td>\n",
       "      <td>It is the dark century and the people are suff...</td>\n",
       "    </tr>\n",
       "  </tbody>\n",
       "</table>\n",
       "</div>"
      ],
      "text/plain": [
       "   MAL_ID                             Name Score  \\\n",
       "0       1                     Cowboy Bebop  8.78   \n",
       "1       5  Cowboy Bebop: Tengoku no Tobira  8.39   \n",
       "2       6                           Trigun  8.24   \n",
       "3       7               Witch Hunter Robin  7.27   \n",
       "4       8                   Bouken Ou Beet  6.98   \n",
       "\n",
       "                                              Genres  \\\n",
       "0    Action, Adventure, Comedy, Drama, Sci-Fi, Space   \n",
       "1              Action, Drama, Mystery, Sci-Fi, Space   \n",
       "2  Action, Sci-Fi, Adventure, Comedy, Drama, Shounen   \n",
       "3  Action, Mystery, Police, Supernatural, Drama, ...   \n",
       "4          Adventure, Fantasy, Shounen, Supernatural   \n",
       "\n",
       "                                           sypnopsis  \n",
       "0  In the year 2071, humanity has colonized sever...  \n",
       "1  other day, another bounty—such is the life of ...  \n",
       "2  Vash the Stampede is the man with a $$60,000,0...  \n",
       "3  ches are individuals with special powers like ...  \n",
       "4  It is the dark century and the people are suff...  "
      ]
     },
     "execution_count": 6,
     "metadata": {},
     "output_type": "execute_result"
    }
   ],
   "source": [
    "anime.head()"
   ]
  },
  {
   "cell_type": "code",
   "execution_count": 7,
   "id": "acc0d7ba",
   "metadata": {},
   "outputs": [
    {
     "data": {
      "text/html": [
       "<div>\n",
       "<style scoped>\n",
       "    .dataframe tbody tr th:only-of-type {\n",
       "        vertical-align: middle;\n",
       "    }\n",
       "\n",
       "    .dataframe tbody tr th {\n",
       "        vertical-align: top;\n",
       "    }\n",
       "\n",
       "    .dataframe thead th {\n",
       "        text-align: right;\n",
       "    }\n",
       "</style>\n",
       "<table border=\"1\" class=\"dataframe\">\n",
       "  <thead>\n",
       "    <tr style=\"text-align: right;\">\n",
       "      <th></th>\n",
       "      <th>MAL_ID</th>\n",
       "      <th>Name</th>\n",
       "      <th>Score</th>\n",
       "      <th>Genres</th>\n",
       "      <th>sypnopsis</th>\n",
       "    </tr>\n",
       "  </thead>\n",
       "  <tbody>\n",
       "    <tr>\n",
       "      <th>0</th>\n",
       "      <td>1</td>\n",
       "      <td>Cowboy Bebop</td>\n",
       "      <td>8.78</td>\n",
       "      <td>Action, Adventure, Comedy, Drama, Sci-Fi, Space</td>\n",
       "      <td>In the year 2071, humanity has colonized sever...</td>\n",
       "    </tr>\n",
       "    <tr>\n",
       "      <th>1</th>\n",
       "      <td>5</td>\n",
       "      <td>Cowboy Bebop: Tengoku no Tobira</td>\n",
       "      <td>8.39</td>\n",
       "      <td>Action, Drama, Mystery, Sci-Fi, Space</td>\n",
       "      <td>other day, another bounty—such is the life of ...</td>\n",
       "    </tr>\n",
       "    <tr>\n",
       "      <th>2</th>\n",
       "      <td>6</td>\n",
       "      <td>Trigun</td>\n",
       "      <td>8.24</td>\n",
       "      <td>Action, Sci-Fi, Adventure, Comedy, Drama, Shounen</td>\n",
       "      <td>Vash the Stampede is the man with a $$60,000,0...</td>\n",
       "    </tr>\n",
       "    <tr>\n",
       "      <th>3</th>\n",
       "      <td>7</td>\n",
       "      <td>Witch Hunter Robin</td>\n",
       "      <td>7.27</td>\n",
       "      <td>Action, Mystery, Police, Supernatural, Drama, ...</td>\n",
       "      <td>ches are individuals with special powers like ...</td>\n",
       "    </tr>\n",
       "    <tr>\n",
       "      <th>4</th>\n",
       "      <td>8</td>\n",
       "      <td>Bouken Ou Beet</td>\n",
       "      <td>6.98</td>\n",
       "      <td>Adventure, Fantasy, Shounen, Supernatural</td>\n",
       "      <td>It is the dark century and the people are suff...</td>\n",
       "    </tr>\n",
       "    <tr>\n",
       "      <th>...</th>\n",
       "      <td>...</td>\n",
       "      <td>...</td>\n",
       "      <td>...</td>\n",
       "      <td>...</td>\n",
       "      <td>...</td>\n",
       "    </tr>\n",
       "    <tr>\n",
       "      <th>16209</th>\n",
       "      <td>48481</td>\n",
       "      <td>Daomu Biji Zhi Qinling Shen Shu</td>\n",
       "      <td>Unknown</td>\n",
       "      <td>Adventure, Mystery, Supernatural</td>\n",
       "      <td>No synopsis information has been added to this...</td>\n",
       "    </tr>\n",
       "    <tr>\n",
       "      <th>16210</th>\n",
       "      <td>48483</td>\n",
       "      <td>Mieruko-chan</td>\n",
       "      <td>Unknown</td>\n",
       "      <td>Comedy, Horror, Supernatural</td>\n",
       "      <td>ko is a typical high school student whose life...</td>\n",
       "    </tr>\n",
       "    <tr>\n",
       "      <th>16211</th>\n",
       "      <td>48488</td>\n",
       "      <td>Higurashi no Naku Koro ni Sotsu</td>\n",
       "      <td>Unknown</td>\n",
       "      <td>Mystery, Dementia, Horror, Psychological, Supe...</td>\n",
       "      <td>Sequel to Higurashi no Naku Koro ni Gou .</td>\n",
       "    </tr>\n",
       "    <tr>\n",
       "      <th>16212</th>\n",
       "      <td>48491</td>\n",
       "      <td>Yama no Susume: Next Summit</td>\n",
       "      <td>Unknown</td>\n",
       "      <td>Adventure, Slice of Life, Comedy</td>\n",
       "      <td>New Yama no Susume anime.</td>\n",
       "    </tr>\n",
       "    <tr>\n",
       "      <th>16213</th>\n",
       "      <td>48492</td>\n",
       "      <td>Scarlet Nexus</td>\n",
       "      <td>Unknown</td>\n",
       "      <td>Action, Fantasy</td>\n",
       "      <td>Solar calendar year 2020: grotesque organisms ...</td>\n",
       "    </tr>\n",
       "  </tbody>\n",
       "</table>\n",
       "<p>16214 rows × 5 columns</p>\n",
       "</div>"
      ],
      "text/plain": [
       "       MAL_ID                             Name    Score  \\\n",
       "0           1                     Cowboy Bebop     8.78   \n",
       "1           5  Cowboy Bebop: Tengoku no Tobira     8.39   \n",
       "2           6                           Trigun     8.24   \n",
       "3           7               Witch Hunter Robin     7.27   \n",
       "4           8                   Bouken Ou Beet     6.98   \n",
       "...       ...                              ...      ...   \n",
       "16209   48481  Daomu Biji Zhi Qinling Shen Shu  Unknown   \n",
       "16210   48483                     Mieruko-chan  Unknown   \n",
       "16211   48488  Higurashi no Naku Koro ni Sotsu  Unknown   \n",
       "16212   48491      Yama no Susume: Next Summit  Unknown   \n",
       "16213   48492                    Scarlet Nexus  Unknown   \n",
       "\n",
       "                                                  Genres  \\\n",
       "0        Action, Adventure, Comedy, Drama, Sci-Fi, Space   \n",
       "1                  Action, Drama, Mystery, Sci-Fi, Space   \n",
       "2      Action, Sci-Fi, Adventure, Comedy, Drama, Shounen   \n",
       "3      Action, Mystery, Police, Supernatural, Drama, ...   \n",
       "4              Adventure, Fantasy, Shounen, Supernatural   \n",
       "...                                                  ...   \n",
       "16209                   Adventure, Mystery, Supernatural   \n",
       "16210                       Comedy, Horror, Supernatural   \n",
       "16211  Mystery, Dementia, Horror, Psychological, Supe...   \n",
       "16212                   Adventure, Slice of Life, Comedy   \n",
       "16213                                    Action, Fantasy   \n",
       "\n",
       "                                               sypnopsis  \n",
       "0      In the year 2071, humanity has colonized sever...  \n",
       "1      other day, another bounty—such is the life of ...  \n",
       "2      Vash the Stampede is the man with a $$60,000,0...  \n",
       "3      ches are individuals with special powers like ...  \n",
       "4      It is the dark century and the people are suff...  \n",
       "...                                                  ...  \n",
       "16209  No synopsis information has been added to this...  \n",
       "16210  ko is a typical high school student whose life...  \n",
       "16211          Sequel to Higurashi no Naku Koro ni Gou .  \n",
       "16212                          New Yama no Susume anime.  \n",
       "16213  Solar calendar year 2020: grotesque organisms ...  \n",
       "\n",
       "[16214 rows x 5 columns]"
      ]
     },
     "execution_count": 7,
     "metadata": {},
     "output_type": "execute_result"
    }
   ],
   "source": [
    "anime.rename(columns={\"Mal_ID\": \"id\"}, inplace=True)\n",
    "anime"
   ]
  },
  {
   "cell_type": "code",
   "execution_count": 8,
   "id": "8410055a",
   "metadata": {},
   "outputs": [
    {
     "data": {
      "text/html": [
       "<div>\n",
       "<style scoped>\n",
       "    .dataframe tbody tr th:only-of-type {\n",
       "        vertical-align: middle;\n",
       "    }\n",
       "\n",
       "    .dataframe tbody tr th {\n",
       "        vertical-align: top;\n",
       "    }\n",
       "\n",
       "    .dataframe thead th {\n",
       "        text-align: right;\n",
       "    }\n",
       "</style>\n",
       "<table border=\"1\" class=\"dataframe\">\n",
       "  <thead>\n",
       "    <tr style=\"text-align: right;\">\n",
       "      <th></th>\n",
       "      <th>MAL_ID</th>\n",
       "      <th>Name</th>\n",
       "      <th>Score</th>\n",
       "      <th>Genres</th>\n",
       "      <th>sypnopsis</th>\n",
       "    </tr>\n",
       "  </thead>\n",
       "  <tbody>\n",
       "    <tr>\n",
       "      <th>0</th>\n",
       "      <td>1</td>\n",
       "      <td>Cowboy Bebop</td>\n",
       "      <td>8.78</td>\n",
       "      <td>Action, Adventure, Comedy, Drama, Sci-Fi, Space</td>\n",
       "      <td>In the year 2071, humanity has colonized sever...</td>\n",
       "    </tr>\n",
       "    <tr>\n",
       "      <th>1</th>\n",
       "      <td>5</td>\n",
       "      <td>Cowboy Bebop: Tengoku no Tobira</td>\n",
       "      <td>8.39</td>\n",
       "      <td>Action, Drama, Mystery, Sci-Fi, Space</td>\n",
       "      <td>other day, another bounty—such is the life of ...</td>\n",
       "    </tr>\n",
       "    <tr>\n",
       "      <th>2</th>\n",
       "      <td>6</td>\n",
       "      <td>Trigun</td>\n",
       "      <td>8.24</td>\n",
       "      <td>Action, Sci-Fi, Adventure, Comedy, Drama, Shounen</td>\n",
       "      <td>Vash the Stampede is the man with a $$60,000,0...</td>\n",
       "    </tr>\n",
       "    <tr>\n",
       "      <th>3</th>\n",
       "      <td>7</td>\n",
       "      <td>Witch Hunter Robin</td>\n",
       "      <td>7.27</td>\n",
       "      <td>Action, Mystery, Police, Supernatural, Drama, ...</td>\n",
       "      <td>ches are individuals with special powers like ...</td>\n",
       "    </tr>\n",
       "    <tr>\n",
       "      <th>4</th>\n",
       "      <td>8</td>\n",
       "      <td>Bouken Ou Beet</td>\n",
       "      <td>6.98</td>\n",
       "      <td>Adventure, Fantasy, Shounen, Supernatural</td>\n",
       "      <td>It is the dark century and the people are suff...</td>\n",
       "    </tr>\n",
       "  </tbody>\n",
       "</table>\n",
       "</div>"
      ],
      "text/plain": [
       "   MAL_ID                             Name Score  \\\n",
       "0       1                     Cowboy Bebop  8.78   \n",
       "1       5  Cowboy Bebop: Tengoku no Tobira  8.39   \n",
       "2       6                           Trigun  8.24   \n",
       "3       7               Witch Hunter Robin  7.27   \n",
       "4       8                   Bouken Ou Beet  6.98   \n",
       "\n",
       "                                              Genres  \\\n",
       "0    Action, Adventure, Comedy, Drama, Sci-Fi, Space   \n",
       "1              Action, Drama, Mystery, Sci-Fi, Space   \n",
       "2  Action, Sci-Fi, Adventure, Comedy, Drama, Shounen   \n",
       "3  Action, Mystery, Police, Supernatural, Drama, ...   \n",
       "4          Adventure, Fantasy, Shounen, Supernatural   \n",
       "\n",
       "                                           sypnopsis  \n",
       "0  In the year 2071, humanity has colonized sever...  \n",
       "1  other day, another bounty—such is the life of ...  \n",
       "2  Vash the Stampede is the man with a $$60,000,0...  \n",
       "3  ches are individuals with special powers like ...  \n",
       "4  It is the dark century and the people are suff...  "
      ]
     },
     "execution_count": 8,
     "metadata": {},
     "output_type": "execute_result"
    }
   ],
   "source": [
    "anime.head()"
   ]
  },
  {
   "cell_type": "code",
   "execution_count": 9,
   "id": "ac8bfcbb",
   "metadata": {},
   "outputs": [],
   "source": [
    "anime.drop(['Score'], axis='columns', inplace=True)"
   ]
  },
  {
   "cell_type": "code",
   "execution_count": 10,
   "id": "34265708",
   "metadata": {},
   "outputs": [
    {
     "data": {
      "text/html": [
       "<div>\n",
       "<style scoped>\n",
       "    .dataframe tbody tr th:only-of-type {\n",
       "        vertical-align: middle;\n",
       "    }\n",
       "\n",
       "    .dataframe tbody tr th {\n",
       "        vertical-align: top;\n",
       "    }\n",
       "\n",
       "    .dataframe thead th {\n",
       "        text-align: right;\n",
       "    }\n",
       "</style>\n",
       "<table border=\"1\" class=\"dataframe\">\n",
       "  <thead>\n",
       "    <tr style=\"text-align: right;\">\n",
       "      <th></th>\n",
       "      <th>MAL_ID</th>\n",
       "      <th>Name</th>\n",
       "      <th>Genres</th>\n",
       "      <th>sypnopsis</th>\n",
       "    </tr>\n",
       "  </thead>\n",
       "  <tbody>\n",
       "    <tr>\n",
       "      <th>0</th>\n",
       "      <td>1</td>\n",
       "      <td>Cowboy Bebop</td>\n",
       "      <td>Action, Adventure, Comedy, Drama, Sci-Fi, Space</td>\n",
       "      <td>In the year 2071, humanity has colonized sever...</td>\n",
       "    </tr>\n",
       "    <tr>\n",
       "      <th>1</th>\n",
       "      <td>5</td>\n",
       "      <td>Cowboy Bebop: Tengoku no Tobira</td>\n",
       "      <td>Action, Drama, Mystery, Sci-Fi, Space</td>\n",
       "      <td>other day, another bounty—such is the life of ...</td>\n",
       "    </tr>\n",
       "    <tr>\n",
       "      <th>2</th>\n",
       "      <td>6</td>\n",
       "      <td>Trigun</td>\n",
       "      <td>Action, Sci-Fi, Adventure, Comedy, Drama, Shounen</td>\n",
       "      <td>Vash the Stampede is the man with a $$60,000,0...</td>\n",
       "    </tr>\n",
       "    <tr>\n",
       "      <th>3</th>\n",
       "      <td>7</td>\n",
       "      <td>Witch Hunter Robin</td>\n",
       "      <td>Action, Mystery, Police, Supernatural, Drama, ...</td>\n",
       "      <td>ches are individuals with special powers like ...</td>\n",
       "    </tr>\n",
       "    <tr>\n",
       "      <th>4</th>\n",
       "      <td>8</td>\n",
       "      <td>Bouken Ou Beet</td>\n",
       "      <td>Adventure, Fantasy, Shounen, Supernatural</td>\n",
       "      <td>It is the dark century and the people are suff...</td>\n",
       "    </tr>\n",
       "    <tr>\n",
       "      <th>...</th>\n",
       "      <td>...</td>\n",
       "      <td>...</td>\n",
       "      <td>...</td>\n",
       "      <td>...</td>\n",
       "    </tr>\n",
       "    <tr>\n",
       "      <th>16209</th>\n",
       "      <td>48481</td>\n",
       "      <td>Daomu Biji Zhi Qinling Shen Shu</td>\n",
       "      <td>Adventure, Mystery, Supernatural</td>\n",
       "      <td>No synopsis information has been added to this...</td>\n",
       "    </tr>\n",
       "    <tr>\n",
       "      <th>16210</th>\n",
       "      <td>48483</td>\n",
       "      <td>Mieruko-chan</td>\n",
       "      <td>Comedy, Horror, Supernatural</td>\n",
       "      <td>ko is a typical high school student whose life...</td>\n",
       "    </tr>\n",
       "    <tr>\n",
       "      <th>16211</th>\n",
       "      <td>48488</td>\n",
       "      <td>Higurashi no Naku Koro ni Sotsu</td>\n",
       "      <td>Mystery, Dementia, Horror, Psychological, Supe...</td>\n",
       "      <td>Sequel to Higurashi no Naku Koro ni Gou .</td>\n",
       "    </tr>\n",
       "    <tr>\n",
       "      <th>16212</th>\n",
       "      <td>48491</td>\n",
       "      <td>Yama no Susume: Next Summit</td>\n",
       "      <td>Adventure, Slice of Life, Comedy</td>\n",
       "      <td>New Yama no Susume anime.</td>\n",
       "    </tr>\n",
       "    <tr>\n",
       "      <th>16213</th>\n",
       "      <td>48492</td>\n",
       "      <td>Scarlet Nexus</td>\n",
       "      <td>Action, Fantasy</td>\n",
       "      <td>Solar calendar year 2020: grotesque organisms ...</td>\n",
       "    </tr>\n",
       "  </tbody>\n",
       "</table>\n",
       "<p>16214 rows × 4 columns</p>\n",
       "</div>"
      ],
      "text/plain": [
       "       MAL_ID                             Name  \\\n",
       "0           1                     Cowboy Bebop   \n",
       "1           5  Cowboy Bebop: Tengoku no Tobira   \n",
       "2           6                           Trigun   \n",
       "3           7               Witch Hunter Robin   \n",
       "4           8                   Bouken Ou Beet   \n",
       "...       ...                              ...   \n",
       "16209   48481  Daomu Biji Zhi Qinling Shen Shu   \n",
       "16210   48483                     Mieruko-chan   \n",
       "16211   48488  Higurashi no Naku Koro ni Sotsu   \n",
       "16212   48491      Yama no Susume: Next Summit   \n",
       "16213   48492                    Scarlet Nexus   \n",
       "\n",
       "                                                  Genres  \\\n",
       "0        Action, Adventure, Comedy, Drama, Sci-Fi, Space   \n",
       "1                  Action, Drama, Mystery, Sci-Fi, Space   \n",
       "2      Action, Sci-Fi, Adventure, Comedy, Drama, Shounen   \n",
       "3      Action, Mystery, Police, Supernatural, Drama, ...   \n",
       "4              Adventure, Fantasy, Shounen, Supernatural   \n",
       "...                                                  ...   \n",
       "16209                   Adventure, Mystery, Supernatural   \n",
       "16210                       Comedy, Horror, Supernatural   \n",
       "16211  Mystery, Dementia, Horror, Psychological, Supe...   \n",
       "16212                   Adventure, Slice of Life, Comedy   \n",
       "16213                                    Action, Fantasy   \n",
       "\n",
       "                                               sypnopsis  \n",
       "0      In the year 2071, humanity has colonized sever...  \n",
       "1      other day, another bounty—such is the life of ...  \n",
       "2      Vash the Stampede is the man with a $$60,000,0...  \n",
       "3      ches are individuals with special powers like ...  \n",
       "4      It is the dark century and the people are suff...  \n",
       "...                                                  ...  \n",
       "16209  No synopsis information has been added to this...  \n",
       "16210  ko is a typical high school student whose life...  \n",
       "16211          Sequel to Higurashi no Naku Koro ni Gou .  \n",
       "16212                          New Yama no Susume anime.  \n",
       "16213  Solar calendar year 2020: grotesque organisms ...  \n",
       "\n",
       "[16214 rows x 4 columns]"
      ]
     },
     "execution_count": 10,
     "metadata": {},
     "output_type": "execute_result"
    }
   ],
   "source": [
    "anime"
   ]
  },
  {
   "cell_type": "code",
   "execution_count": 11,
   "id": "935e1b90",
   "metadata": {},
   "outputs": [
    {
     "data": {
      "text/plain": [
       "MAL_ID       0\n",
       "Name         0\n",
       "Genres       0\n",
       "sypnopsis    8\n",
       "dtype: int64"
      ]
     },
     "execution_count": 11,
     "metadata": {},
     "output_type": "execute_result"
    }
   ],
   "source": [
    "anime.isnull().sum()"
   ]
  },
  {
   "cell_type": "code",
   "execution_count": 12,
   "id": "a64a2098",
   "metadata": {},
   "outputs": [],
   "source": [
    "anime.dropna(inplace = True)"
   ]
  },
  {
   "cell_type": "code",
   "execution_count": 13,
   "id": "6ecfa86b",
   "metadata": {},
   "outputs": [
    {
     "data": {
      "text/plain": [
       "0"
      ]
     },
     "execution_count": 13,
     "metadata": {},
     "output_type": "execute_result"
    }
   ],
   "source": [
    "anime.duplicated().sum()"
   ]
  },
  {
   "cell_type": "code",
   "execution_count": 14,
   "id": "7a65ba30",
   "metadata": {},
   "outputs": [
    {
     "data": {
      "text/html": [
       "<div>\n",
       "<style scoped>\n",
       "    .dataframe tbody tr th:only-of-type {\n",
       "        vertical-align: middle;\n",
       "    }\n",
       "\n",
       "    .dataframe tbody tr th {\n",
       "        vertical-align: top;\n",
       "    }\n",
       "\n",
       "    .dataframe thead th {\n",
       "        text-align: right;\n",
       "    }\n",
       "</style>\n",
       "<table border=\"1\" class=\"dataframe\">\n",
       "  <thead>\n",
       "    <tr style=\"text-align: right;\">\n",
       "      <th></th>\n",
       "      <th>MAL_ID</th>\n",
       "      <th>Name</th>\n",
       "      <th>Genres</th>\n",
       "      <th>sypnopsis</th>\n",
       "    </tr>\n",
       "  </thead>\n",
       "  <tbody>\n",
       "    <tr>\n",
       "      <th>0</th>\n",
       "      <td>1</td>\n",
       "      <td>Cowboy Bebop</td>\n",
       "      <td>Action, Adventure, Comedy, Drama, Sci-Fi, Space</td>\n",
       "      <td>In the year 2071, humanity has colonized sever...</td>\n",
       "    </tr>\n",
       "    <tr>\n",
       "      <th>1</th>\n",
       "      <td>5</td>\n",
       "      <td>Cowboy Bebop: Tengoku no Tobira</td>\n",
       "      <td>Action, Drama, Mystery, Sci-Fi, Space</td>\n",
       "      <td>other day, another bounty—such is the life of ...</td>\n",
       "    </tr>\n",
       "    <tr>\n",
       "      <th>2</th>\n",
       "      <td>6</td>\n",
       "      <td>Trigun</td>\n",
       "      <td>Action, Sci-Fi, Adventure, Comedy, Drama, Shounen</td>\n",
       "      <td>Vash the Stampede is the man with a $$60,000,0...</td>\n",
       "    </tr>\n",
       "    <tr>\n",
       "      <th>3</th>\n",
       "      <td>7</td>\n",
       "      <td>Witch Hunter Robin</td>\n",
       "      <td>Action, Mystery, Police, Supernatural, Drama, ...</td>\n",
       "      <td>ches are individuals with special powers like ...</td>\n",
       "    </tr>\n",
       "    <tr>\n",
       "      <th>4</th>\n",
       "      <td>8</td>\n",
       "      <td>Bouken Ou Beet</td>\n",
       "      <td>Adventure, Fantasy, Shounen, Supernatural</td>\n",
       "      <td>It is the dark century and the people are suff...</td>\n",
       "    </tr>\n",
       "  </tbody>\n",
       "</table>\n",
       "</div>"
      ],
      "text/plain": [
       "   MAL_ID                             Name  \\\n",
       "0       1                     Cowboy Bebop   \n",
       "1       5  Cowboy Bebop: Tengoku no Tobira   \n",
       "2       6                           Trigun   \n",
       "3       7               Witch Hunter Robin   \n",
       "4       8                   Bouken Ou Beet   \n",
       "\n",
       "                                              Genres  \\\n",
       "0    Action, Adventure, Comedy, Drama, Sci-Fi, Space   \n",
       "1              Action, Drama, Mystery, Sci-Fi, Space   \n",
       "2  Action, Sci-Fi, Adventure, Comedy, Drama, Shounen   \n",
       "3  Action, Mystery, Police, Supernatural, Drama, ...   \n",
       "4          Adventure, Fantasy, Shounen, Supernatural   \n",
       "\n",
       "                                           sypnopsis  \n",
       "0  In the year 2071, humanity has colonized sever...  \n",
       "1  other day, another bounty—such is the life of ...  \n",
       "2  Vash the Stampede is the man with a $$60,000,0...  \n",
       "3  ches are individuals with special powers like ...  \n",
       "4  It is the dark century and the people are suff...  "
      ]
     },
     "execution_count": 14,
     "metadata": {},
     "output_type": "execute_result"
    }
   ],
   "source": [
    "anime.head()"
   ]
  },
  {
   "cell_type": "code",
   "execution_count": 15,
   "id": "d80c34cf",
   "metadata": {},
   "outputs": [
    {
     "data": {
      "text/plain": [
       "(16206, 4)"
      ]
     },
     "execution_count": 15,
     "metadata": {},
     "output_type": "execute_result"
    }
   ],
   "source": [
    "anime.shape"
   ]
  },
  {
   "cell_type": "code",
   "execution_count": 16,
   "id": "acf8f78b",
   "metadata": {},
   "outputs": [
    {
     "data": {
      "text/plain": [
       "'In the year 2071, humanity has colonized several of the planets and moons of the solar system leaving the now uninhabitable surface of planet Earth behind. The Inter Solar System Police attempts to keep peace in the galaxy, aided in part by outlaw bounty hunters, referred to as \"Cowboys.\" The ragtag team aboard the spaceship Bebop are two such individuals. Mellow and carefree Spike Spiegel is balanced by his boisterous, pragmatic partner Jet Black as the pair makes a living chasing bounties and collecting rewards. Thrown off course by the addition of new members that they meet in their travels—Ein, a genetically engineered, highly intelligent Welsh Corgi; femme fatale Faye Valentine, an enigmatic trickster with memory loss; and the strange computer whiz kid Edward Wong—the crew embarks on thrilling adventures that unravel each member\\'s dark and mysterious past little by little. Well-balanced with high density action and light-hearted comedy, Cowboy Bebop is a space Western classic and an homage to the smooth and improvised music it is named after.'"
      ]
     },
     "execution_count": 16,
     "metadata": {},
     "output_type": "execute_result"
    }
   ],
   "source": [
    "anime.iloc[0].sypnopsis"
   ]
  },
  {
   "cell_type": "code",
   "execution_count": 17,
   "id": "da99f3bb",
   "metadata": {},
   "outputs": [],
   "source": [
    "anime['sypnopsis'] = anime['sypnopsis'].apply(lambda x:x.split())"
   ]
  },
  {
   "cell_type": "code",
   "execution_count": 18,
   "id": "733b7b93",
   "metadata": {},
   "outputs": [
    {
     "data": {
      "text/plain": [
       "['In',\n",
       " 'the',\n",
       " 'year',\n",
       " '2071,',\n",
       " 'humanity',\n",
       " 'has',\n",
       " 'colonized',\n",
       " 'several',\n",
       " 'of',\n",
       " 'the',\n",
       " 'planets',\n",
       " 'and',\n",
       " 'moons',\n",
       " 'of',\n",
       " 'the',\n",
       " 'solar',\n",
       " 'system',\n",
       " 'leaving',\n",
       " 'the',\n",
       " 'now',\n",
       " 'uninhabitable',\n",
       " 'surface',\n",
       " 'of',\n",
       " 'planet',\n",
       " 'Earth',\n",
       " 'behind.',\n",
       " 'The',\n",
       " 'Inter',\n",
       " 'Solar',\n",
       " 'System',\n",
       " 'Police',\n",
       " 'attempts',\n",
       " 'to',\n",
       " 'keep',\n",
       " 'peace',\n",
       " 'in',\n",
       " 'the',\n",
       " 'galaxy,',\n",
       " 'aided',\n",
       " 'in',\n",
       " 'part',\n",
       " 'by',\n",
       " 'outlaw',\n",
       " 'bounty',\n",
       " 'hunters,',\n",
       " 'referred',\n",
       " 'to',\n",
       " 'as',\n",
       " '\"Cowboys.\"',\n",
       " 'The',\n",
       " 'ragtag',\n",
       " 'team',\n",
       " 'aboard',\n",
       " 'the',\n",
       " 'spaceship',\n",
       " 'Bebop',\n",
       " 'are',\n",
       " 'two',\n",
       " 'such',\n",
       " 'individuals.',\n",
       " 'Mellow',\n",
       " 'and',\n",
       " 'carefree',\n",
       " 'Spike',\n",
       " 'Spiegel',\n",
       " 'is',\n",
       " 'balanced',\n",
       " 'by',\n",
       " 'his',\n",
       " 'boisterous,',\n",
       " 'pragmatic',\n",
       " 'partner',\n",
       " 'Jet',\n",
       " 'Black',\n",
       " 'as',\n",
       " 'the',\n",
       " 'pair',\n",
       " 'makes',\n",
       " 'a',\n",
       " 'living',\n",
       " 'chasing',\n",
       " 'bounties',\n",
       " 'and',\n",
       " 'collecting',\n",
       " 'rewards.',\n",
       " 'Thrown',\n",
       " 'off',\n",
       " 'course',\n",
       " 'by',\n",
       " 'the',\n",
       " 'addition',\n",
       " 'of',\n",
       " 'new',\n",
       " 'members',\n",
       " 'that',\n",
       " 'they',\n",
       " 'meet',\n",
       " 'in',\n",
       " 'their',\n",
       " 'travels—Ein,',\n",
       " 'a',\n",
       " 'genetically',\n",
       " 'engineered,',\n",
       " 'highly',\n",
       " 'intelligent',\n",
       " 'Welsh',\n",
       " 'Corgi;',\n",
       " 'femme',\n",
       " 'fatale',\n",
       " 'Faye',\n",
       " 'Valentine,',\n",
       " 'an',\n",
       " 'enigmatic',\n",
       " 'trickster',\n",
       " 'with',\n",
       " 'memory',\n",
       " 'loss;',\n",
       " 'and',\n",
       " 'the',\n",
       " 'strange',\n",
       " 'computer',\n",
       " 'whiz',\n",
       " 'kid',\n",
       " 'Edward',\n",
       " 'Wong—the',\n",
       " 'crew',\n",
       " 'embarks',\n",
       " 'on',\n",
       " 'thrilling',\n",
       " 'adventures',\n",
       " 'that',\n",
       " 'unravel',\n",
       " 'each',\n",
       " \"member's\",\n",
       " 'dark',\n",
       " 'and',\n",
       " 'mysterious',\n",
       " 'past',\n",
       " 'little',\n",
       " 'by',\n",
       " 'little.',\n",
       " 'Well-balanced',\n",
       " 'with',\n",
       " 'high',\n",
       " 'density',\n",
       " 'action',\n",
       " 'and',\n",
       " 'light-hearted',\n",
       " 'comedy,',\n",
       " 'Cowboy',\n",
       " 'Bebop',\n",
       " 'is',\n",
       " 'a',\n",
       " 'space',\n",
       " 'Western',\n",
       " 'classic',\n",
       " 'and',\n",
       " 'an',\n",
       " 'homage',\n",
       " 'to',\n",
       " 'the',\n",
       " 'smooth',\n",
       " 'and',\n",
       " 'improvised',\n",
       " 'music',\n",
       " 'it',\n",
       " 'is',\n",
       " 'named',\n",
       " 'after.']"
      ]
     },
     "execution_count": 18,
     "metadata": {},
     "output_type": "execute_result"
    }
   ],
   "source": [
    "anime['sypnopsis'][0]"
   ]
  },
  {
   "cell_type": "code",
   "execution_count": 19,
   "id": "73734bf7",
   "metadata": {},
   "outputs": [
    {
     "data": {
      "text/plain": [
       "'Action, Adventure, Comedy, Drama, Sci-Fi, Space'"
      ]
     },
     "execution_count": 19,
     "metadata": {},
     "output_type": "execute_result"
    }
   ],
   "source": [
    "anime.iloc[0].Genres"
   ]
  },
  {
   "cell_type": "code",
   "execution_count": 20,
   "id": "08b4dfcd",
   "metadata": {},
   "outputs": [],
   "source": [
    "anime['Genres'] = anime['Genres'].apply(lambda x: x.split(','))"
   ]
  },
  {
   "cell_type": "code",
   "execution_count": 21,
   "id": "5191c652",
   "metadata": {},
   "outputs": [
    {
     "data": {
      "text/plain": [
       "['Action', ' Adventure', ' Comedy', ' Drama', ' Sci-Fi', ' Space']"
      ]
     },
     "execution_count": 21,
     "metadata": {},
     "output_type": "execute_result"
    }
   ],
   "source": [
    "anime['Genres'][0]"
   ]
  },
  {
   "cell_type": "code",
   "execution_count": 22,
   "id": "197702fc",
   "metadata": {},
   "outputs": [
    {
     "data": {
      "text/html": [
       "<div>\n",
       "<style scoped>\n",
       "    .dataframe tbody tr th:only-of-type {\n",
       "        vertical-align: middle;\n",
       "    }\n",
       "\n",
       "    .dataframe tbody tr th {\n",
       "        vertical-align: top;\n",
       "    }\n",
       "\n",
       "    .dataframe thead th {\n",
       "        text-align: right;\n",
       "    }\n",
       "</style>\n",
       "<table border=\"1\" class=\"dataframe\">\n",
       "  <thead>\n",
       "    <tr style=\"text-align: right;\">\n",
       "      <th></th>\n",
       "      <th>MAL_ID</th>\n",
       "      <th>Name</th>\n",
       "      <th>Genres</th>\n",
       "      <th>sypnopsis</th>\n",
       "    </tr>\n",
       "  </thead>\n",
       "  <tbody>\n",
       "    <tr>\n",
       "      <th>0</th>\n",
       "      <td>1</td>\n",
       "      <td>Cowboy Bebop</td>\n",
       "      <td>[Action,  Adventure,  Comedy,  Drama,  Sci-Fi,...</td>\n",
       "      <td>[In, the, year, 2071,, humanity, has, colonize...</td>\n",
       "    </tr>\n",
       "    <tr>\n",
       "      <th>1</th>\n",
       "      <td>5</td>\n",
       "      <td>Cowboy Bebop: Tengoku no Tobira</td>\n",
       "      <td>[Action,  Drama,  Mystery,  Sci-Fi,  Space]</td>\n",
       "      <td>[other, day,, another, bounty—such, is, the, l...</td>\n",
       "    </tr>\n",
       "  </tbody>\n",
       "</table>\n",
       "</div>"
      ],
      "text/plain": [
       "   MAL_ID                             Name  \\\n",
       "0       1                     Cowboy Bebop   \n",
       "1       5  Cowboy Bebop: Tengoku no Tobira   \n",
       "\n",
       "                                              Genres  \\\n",
       "0  [Action,  Adventure,  Comedy,  Drama,  Sci-Fi,...   \n",
       "1        [Action,  Drama,  Mystery,  Sci-Fi,  Space]   \n",
       "\n",
       "                                           sypnopsis  \n",
       "0  [In, the, year, 2071,, humanity, has, colonize...  \n",
       "1  [other, day,, another, bounty—such, is, the, l...  "
      ]
     },
     "execution_count": 22,
     "metadata": {},
     "output_type": "execute_result"
    }
   ],
   "source": [
    "anime.head(2)"
   ]
  },
  {
   "cell_type": "code",
   "execution_count": 23,
   "id": "af2171c9",
   "metadata": {},
   "outputs": [],
   "source": [
    "anime['Genres'] = anime['Genres'].apply(lambda x:[i.replace(\",,\", \",\") for i in x])"
   ]
  },
  {
   "cell_type": "code",
   "execution_count": 24,
   "id": "f403c264",
   "metadata": {},
   "outputs": [
    {
     "data": {
      "text/html": [
       "<div>\n",
       "<style scoped>\n",
       "    .dataframe tbody tr th:only-of-type {\n",
       "        vertical-align: middle;\n",
       "    }\n",
       "\n",
       "    .dataframe tbody tr th {\n",
       "        vertical-align: top;\n",
       "    }\n",
       "\n",
       "    .dataframe thead th {\n",
       "        text-align: right;\n",
       "    }\n",
       "</style>\n",
       "<table border=\"1\" class=\"dataframe\">\n",
       "  <thead>\n",
       "    <tr style=\"text-align: right;\">\n",
       "      <th></th>\n",
       "      <th>MAL_ID</th>\n",
       "      <th>Name</th>\n",
       "      <th>Genres</th>\n",
       "      <th>sypnopsis</th>\n",
       "    </tr>\n",
       "  </thead>\n",
       "  <tbody>\n",
       "    <tr>\n",
       "      <th>0</th>\n",
       "      <td>1</td>\n",
       "      <td>Cowboy Bebop</td>\n",
       "      <td>[Action,  Adventure,  Comedy,  Drama,  Sci-Fi,...</td>\n",
       "      <td>[In, the, year, 2071,, humanity, has, colonize...</td>\n",
       "    </tr>\n",
       "    <tr>\n",
       "      <th>1</th>\n",
       "      <td>5</td>\n",
       "      <td>Cowboy Bebop: Tengoku no Tobira</td>\n",
       "      <td>[Action,  Drama,  Mystery,  Sci-Fi,  Space]</td>\n",
       "      <td>[other, day,, another, bounty—such, is, the, l...</td>\n",
       "    </tr>\n",
       "    <tr>\n",
       "      <th>2</th>\n",
       "      <td>6</td>\n",
       "      <td>Trigun</td>\n",
       "      <td>[Action,  Sci-Fi,  Adventure,  Comedy,  Drama,...</td>\n",
       "      <td>[Vash, the, Stampede, is, the, man, with, a, $...</td>\n",
       "    </tr>\n",
       "    <tr>\n",
       "      <th>3</th>\n",
       "      <td>7</td>\n",
       "      <td>Witch Hunter Robin</td>\n",
       "      <td>[Action,  Mystery,  Police,  Supernatural,  Dr...</td>\n",
       "      <td>[ches, are, individuals, with, special, powers...</td>\n",
       "    </tr>\n",
       "    <tr>\n",
       "      <th>4</th>\n",
       "      <td>8</td>\n",
       "      <td>Bouken Ou Beet</td>\n",
       "      <td>[Adventure,  Fantasy,  Shounen,  Supernatural]</td>\n",
       "      <td>[It, is, the, dark, century, and, the, people,...</td>\n",
       "    </tr>\n",
       "  </tbody>\n",
       "</table>\n",
       "</div>"
      ],
      "text/plain": [
       "   MAL_ID                             Name  \\\n",
       "0       1                     Cowboy Bebop   \n",
       "1       5  Cowboy Bebop: Tengoku no Tobira   \n",
       "2       6                           Trigun   \n",
       "3       7               Witch Hunter Robin   \n",
       "4       8                   Bouken Ou Beet   \n",
       "\n",
       "                                              Genres  \\\n",
       "0  [Action,  Adventure,  Comedy,  Drama,  Sci-Fi,...   \n",
       "1        [Action,  Drama,  Mystery,  Sci-Fi,  Space]   \n",
       "2  [Action,  Sci-Fi,  Adventure,  Comedy,  Drama,...   \n",
       "3  [Action,  Mystery,  Police,  Supernatural,  Dr...   \n",
       "4     [Adventure,  Fantasy,  Shounen,  Supernatural]   \n",
       "\n",
       "                                           sypnopsis  \n",
       "0  [In, the, year, 2071,, humanity, has, colonize...  \n",
       "1  [other, day,, another, bounty—such, is, the, l...  \n",
       "2  [Vash, the, Stampede, is, the, man, with, a, $...  \n",
       "3  [ches, are, individuals, with, special, powers...  \n",
       "4  [It, is, the, dark, century, and, the, people,...  "
      ]
     },
     "execution_count": 24,
     "metadata": {},
     "output_type": "execute_result"
    }
   ],
   "source": [
    "anime.head()"
   ]
  },
  {
   "cell_type": "code",
   "execution_count": 25,
   "id": "86becd5b",
   "metadata": {},
   "outputs": [],
   "source": [
    "anime['Genres'] = anime['Genres'].apply(lambda x:[i.replace(\" \",\"\") for i in x])\n",
    "anime['sypnopsis'] = anime['sypnopsis'].apply(lambda x:[i.replace(\" \",\"\") for i in x])"
   ]
  },
  {
   "cell_type": "code",
   "execution_count": null,
   "id": "400cf7c8",
   "metadata": {},
   "outputs": [],
   "source": [
    "anime.head()"
   ]
  },
  {
   "cell_type": "code",
   "execution_count": 323,
   "id": "48cf5914",
   "metadata": {},
   "outputs": [],
   "source": [
    "anime['tags'] = anime['Genres'] + anime['sypnopsis']"
   ]
  },
  {
   "cell_type": "code",
   "execution_count": 324,
   "id": "702d0c0f",
   "metadata": {},
   "outputs": [
    {
     "data": {
      "text/html": [
       "<div>\n",
       "<style scoped>\n",
       "    .dataframe tbody tr th:only-of-type {\n",
       "        vertical-align: middle;\n",
       "    }\n",
       "\n",
       "    .dataframe tbody tr th {\n",
       "        vertical-align: top;\n",
       "    }\n",
       "\n",
       "    .dataframe thead th {\n",
       "        text-align: right;\n",
       "    }\n",
       "</style>\n",
       "<table border=\"1\" class=\"dataframe\">\n",
       "  <thead>\n",
       "    <tr style=\"text-align: right;\">\n",
       "      <th></th>\n",
       "      <th>MAL_ID</th>\n",
       "      <th>Name</th>\n",
       "      <th>Genres</th>\n",
       "      <th>sypnopsis</th>\n",
       "      <th>tags</th>\n",
       "    </tr>\n",
       "  </thead>\n",
       "  <tbody>\n",
       "    <tr>\n",
       "      <th>0</th>\n",
       "      <td>1</td>\n",
       "      <td>Cowboy Bebop</td>\n",
       "      <td>[Action, Adventure, Comedy, Drama, Sci-Fi, Space]</td>\n",
       "      <td>[In, the, year, 2071,, humanity, has, colonize...</td>\n",
       "      <td>[Action, Adventure, Comedy, Drama, Sci-Fi, Spa...</td>\n",
       "    </tr>\n",
       "    <tr>\n",
       "      <th>1</th>\n",
       "      <td>5</td>\n",
       "      <td>Cowboy Bebop: Tengoku no Tobira</td>\n",
       "      <td>[Action, Drama, Mystery, Sci-Fi, Space]</td>\n",
       "      <td>[other, day,, another, bounty—such, is, the, l...</td>\n",
       "      <td>[Action, Drama, Mystery, Sci-Fi, Space, other,...</td>\n",
       "    </tr>\n",
       "  </tbody>\n",
       "</table>\n",
       "</div>"
      ],
      "text/plain": [
       "   MAL_ID                             Name  \\\n",
       "0       1                     Cowboy Bebop   \n",
       "1       5  Cowboy Bebop: Tengoku no Tobira   \n",
       "\n",
       "                                              Genres  \\\n",
       "0  [Action, Adventure, Comedy, Drama, Sci-Fi, Space]   \n",
       "1            [Action, Drama, Mystery, Sci-Fi, Space]   \n",
       "\n",
       "                                           sypnopsis  \\\n",
       "0  [In, the, year, 2071,, humanity, has, colonize...   \n",
       "1  [other, day,, another, bounty—such, is, the, l...   \n",
       "\n",
       "                                                tags  \n",
       "0  [Action, Adventure, Comedy, Drama, Sci-Fi, Spa...  \n",
       "1  [Action, Drama, Mystery, Sci-Fi, Space, other,...  "
      ]
     },
     "execution_count": 324,
     "metadata": {},
     "output_type": "execute_result"
    }
   ],
   "source": [
    "anime.head(2)"
   ]
  },
  {
   "cell_type": "code",
   "execution_count": 325,
   "id": "9947eb8a",
   "metadata": {},
   "outputs": [],
   "source": [
    "anime = anime[['MAL_ID', 'Name', 'tags']]"
   ]
  },
  {
   "cell_type": "code",
   "execution_count": 326,
   "id": "992b1665",
   "metadata": {},
   "outputs": [
    {
     "data": {
      "text/html": [
       "<div>\n",
       "<style scoped>\n",
       "    .dataframe tbody tr th:only-of-type {\n",
       "        vertical-align: middle;\n",
       "    }\n",
       "\n",
       "    .dataframe tbody tr th {\n",
       "        vertical-align: top;\n",
       "    }\n",
       "\n",
       "    .dataframe thead th {\n",
       "        text-align: right;\n",
       "    }\n",
       "</style>\n",
       "<table border=\"1\" class=\"dataframe\">\n",
       "  <thead>\n",
       "    <tr style=\"text-align: right;\">\n",
       "      <th></th>\n",
       "      <th>MAL_ID</th>\n",
       "      <th>Name</th>\n",
       "      <th>tags</th>\n",
       "    </tr>\n",
       "  </thead>\n",
       "  <tbody>\n",
       "    <tr>\n",
       "      <th>0</th>\n",
       "      <td>1</td>\n",
       "      <td>Cowboy Bebop</td>\n",
       "      <td>[Action, Adventure, Comedy, Drama, Sci-Fi, Spa...</td>\n",
       "    </tr>\n",
       "    <tr>\n",
       "      <th>1</th>\n",
       "      <td>5</td>\n",
       "      <td>Cowboy Bebop: Tengoku no Tobira</td>\n",
       "      <td>[Action, Drama, Mystery, Sci-Fi, Space, other,...</td>\n",
       "    </tr>\n",
       "  </tbody>\n",
       "</table>\n",
       "</div>"
      ],
      "text/plain": [
       "   MAL_ID                             Name  \\\n",
       "0       1                     Cowboy Bebop   \n",
       "1       5  Cowboy Bebop: Tengoku no Tobira   \n",
       "\n",
       "                                                tags  \n",
       "0  [Action, Adventure, Comedy, Drama, Sci-Fi, Spa...  \n",
       "1  [Action, Drama, Mystery, Sci-Fi, Space, other,...  "
      ]
     },
     "execution_count": 326,
     "metadata": {},
     "output_type": "execute_result"
    }
   ],
   "source": [
    "anime.head(2)"
   ]
  },
  {
   "cell_type": "code",
   "execution_count": 327,
   "id": "eb16f7b2",
   "metadata": {},
   "outputs": [
    {
     "name": "stderr",
     "output_type": "stream",
     "text": [
      "C:\\Users\\nikdu\\AppData\\Local\\Temp/ipykernel_17024/1755461916.py:1: SettingWithCopyWarning: \n",
      "A value is trying to be set on a copy of a slice from a DataFrame.\n",
      "Try using .loc[row_indexer,col_indexer] = value instead\n",
      "\n",
      "See the caveats in the documentation: https://pandas.pydata.org/pandas-docs/stable/user_guide/indexing.html#returning-a-view-versus-a-copy\n",
      "  anime['tags'] = anime['tags'].apply(lambda x: \" \".join(x))\n"
     ]
    }
   ],
   "source": [
    "anime['tags'] = anime['tags'].apply(lambda x: \" \".join(x))"
   ]
  },
  {
   "cell_type": "code",
   "execution_count": 328,
   "id": "d1dc42bc",
   "metadata": {},
   "outputs": [
    {
     "data": {
      "text/plain": [
       "'Action Adventure Comedy Drama Sci-Fi Space In the year 2071, humanity has colonized several of the planets and moons of the solar system leaving the now uninhabitable surface of planet Earth behind. The Inter Solar System Police attempts to keep peace in the galaxy, aided in part by outlaw bounty hunters, referred to as \"Cowboys.\" The ragtag team aboard the spaceship Bebop are two such individuals. Mellow and carefree Spike Spiegel is balanced by his boisterous, pragmatic partner Jet Black as the pair makes a living chasing bounties and collecting rewards. Thrown off course by the addition of new members that they meet in their travels—Ein, a genetically engineered, highly intelligent Welsh Corgi; femme fatale Faye Valentine, an enigmatic trickster with memory loss; and the strange computer whiz kid Edward Wong—the crew embarks on thrilling adventures that unravel each member\\'s dark and mysterious past little by little. Well-balanced with high density action and light-hearted comedy, Cowboy Bebop is a space Western classic and an homage to the smooth and improvised music it is named after.'"
      ]
     },
     "execution_count": 328,
     "metadata": {},
     "output_type": "execute_result"
    }
   ],
   "source": [
    "anime['tags'][0]"
   ]
  },
  {
   "cell_type": "code",
   "execution_count": 329,
   "id": "e000798f",
   "metadata": {},
   "outputs": [
    {
     "data": {
      "text/html": [
       "<div>\n",
       "<style scoped>\n",
       "    .dataframe tbody tr th:only-of-type {\n",
       "        vertical-align: middle;\n",
       "    }\n",
       "\n",
       "    .dataframe tbody tr th {\n",
       "        vertical-align: top;\n",
       "    }\n",
       "\n",
       "    .dataframe thead th {\n",
       "        text-align: right;\n",
       "    }\n",
       "</style>\n",
       "<table border=\"1\" class=\"dataframe\">\n",
       "  <thead>\n",
       "    <tr style=\"text-align: right;\">\n",
       "      <th></th>\n",
       "      <th>MAL_ID</th>\n",
       "      <th>Name</th>\n",
       "      <th>tags</th>\n",
       "    </tr>\n",
       "  </thead>\n",
       "  <tbody>\n",
       "    <tr>\n",
       "      <th>0</th>\n",
       "      <td>1</td>\n",
       "      <td>Cowboy Bebop</td>\n",
       "      <td>Action Adventure Comedy Drama Sci-Fi Space In ...</td>\n",
       "    </tr>\n",
       "    <tr>\n",
       "      <th>1</th>\n",
       "      <td>5</td>\n",
       "      <td>Cowboy Bebop: Tengoku no Tobira</td>\n",
       "      <td>Action Drama Mystery Sci-Fi Space other day, a...</td>\n",
       "    </tr>\n",
       "    <tr>\n",
       "      <th>2</th>\n",
       "      <td>6</td>\n",
       "      <td>Trigun</td>\n",
       "      <td>Action Sci-Fi Adventure Comedy Drama Shounen V...</td>\n",
       "    </tr>\n",
       "    <tr>\n",
       "      <th>3</th>\n",
       "      <td>7</td>\n",
       "      <td>Witch Hunter Robin</td>\n",
       "      <td>Action Mystery Police Supernatural Drama Magic...</td>\n",
       "    </tr>\n",
       "    <tr>\n",
       "      <th>4</th>\n",
       "      <td>8</td>\n",
       "      <td>Bouken Ou Beet</td>\n",
       "      <td>Adventure Fantasy Shounen Supernatural It is t...</td>\n",
       "    </tr>\n",
       "  </tbody>\n",
       "</table>\n",
       "</div>"
      ],
      "text/plain": [
       "   MAL_ID                             Name  \\\n",
       "0       1                     Cowboy Bebop   \n",
       "1       5  Cowboy Bebop: Tengoku no Tobira   \n",
       "2       6                           Trigun   \n",
       "3       7               Witch Hunter Robin   \n",
       "4       8                   Bouken Ou Beet   \n",
       "\n",
       "                                                tags  \n",
       "0  Action Adventure Comedy Drama Sci-Fi Space In ...  \n",
       "1  Action Drama Mystery Sci-Fi Space other day, a...  \n",
       "2  Action Sci-Fi Adventure Comedy Drama Shounen V...  \n",
       "3  Action Mystery Police Supernatural Drama Magic...  \n",
       "4  Adventure Fantasy Shounen Supernatural It is t...  "
      ]
     },
     "execution_count": 329,
     "metadata": {},
     "output_type": "execute_result"
    }
   ],
   "source": [
    "anime.head()"
   ]
  },
  {
   "cell_type": "code",
   "execution_count": 330,
   "id": "16cc94bd",
   "metadata": {},
   "outputs": [],
   "source": [
    "from nltk.stem.porter import PorterStemmer \n",
    "ps = PorterStemmer()"
   ]
  },
  {
   "cell_type": "code",
   "execution_count": 331,
   "id": "095caee9",
   "metadata": {},
   "outputs": [],
   "source": [
    "def stem(text):\n",
    "    df = []\n",
    "    for i in text.split():\n",
    "        df.append(ps.stem(i))\n",
    "    return \" \".join(df)"
   ]
  },
  {
   "cell_type": "code",
   "execution_count": 332,
   "id": "11084b42",
   "metadata": {},
   "outputs": [
    {
     "name": "stderr",
     "output_type": "stream",
     "text": [
      "C:\\Users\\nikdu\\AppData\\Local\\Temp/ipykernel_17024/4201223977.py:1: SettingWithCopyWarning: \n",
      "A value is trying to be set on a copy of a slice from a DataFrame.\n",
      "Try using .loc[row_indexer,col_indexer] = value instead\n",
      "\n",
      "See the caveats in the documentation: https://pandas.pydata.org/pandas-docs/stable/user_guide/indexing.html#returning-a-view-versus-a-copy\n",
      "  anime['tags'] = anime['tags'].apply(stem)\n"
     ]
    }
   ],
   "source": [
    "anime['tags'] = anime['tags'].apply(stem)"
   ]
  },
  {
   "cell_type": "code",
   "execution_count": 333,
   "id": "e50177af",
   "metadata": {},
   "outputs": [
    {
     "data": {
      "text/plain": [
       "'action adventur comedi drama sci-fi space in the year 2071, human ha colon sever of the planet and moon of the solar system leav the now uninhabit surfac of planet earth behind. the inter solar system polic attempt to keep peac in the galaxy, aid in part by outlaw bounti hunters, refer to as \"cowboys.\" the ragtag team aboard the spaceship bebop are two such individuals. mellow and carefre spike spiegel is balanc by hi boisterous, pragmat partner jet black as the pair make a live chase bounti and collect rewards. thrown off cours by the addit of new member that they meet in their travels—ein, a genet engineered, highli intellig welsh corgi; femm fatal fay valentine, an enigmat trickster with memori loss; and the strang comput whiz kid edward wong—th crew embark on thrill adventur that unravel each member\\' dark and mysteri past littl by little. well-balanc with high densiti action and light-heart comedy, cowboy bebop is a space western classic and an homag to the smooth and improvis music it is name after.'"
      ]
     },
     "execution_count": 333,
     "metadata": {},
     "output_type": "execute_result"
    }
   ],
   "source": [
    "anime['tags'][0]"
   ]
  },
  {
   "cell_type": "code",
   "execution_count": 334,
   "id": "324125ee",
   "metadata": {},
   "outputs": [
    {
     "name": "stderr",
     "output_type": "stream",
     "text": [
      "C:\\Users\\nikdu\\AppData\\Local\\Temp/ipykernel_17024/2049149514.py:1: SettingWithCopyWarning: \n",
      "A value is trying to be set on a copy of a slice from a DataFrame.\n",
      "Try using .loc[row_indexer,col_indexer] = value instead\n",
      "\n",
      "See the caveats in the documentation: https://pandas.pydata.org/pandas-docs/stable/user_guide/indexing.html#returning-a-view-versus-a-copy\n",
      "  anime['tags'] = anime['tags'].apply(lambda x: x.lower())\n"
     ]
    }
   ],
   "source": [
    "anime['tags'] = anime['tags'].apply(lambda x: x.lower())"
   ]
  },
  {
   "cell_type": "code",
   "execution_count": 335,
   "id": "adf47b01",
   "metadata": {},
   "outputs": [
    {
     "data": {
      "text/plain": [
       "'action adventur comedi drama sci-fi space in the year 2071, human ha colon sever of the planet and moon of the solar system leav the now uninhabit surfac of planet earth behind. the inter solar system polic attempt to keep peac in the galaxy, aid in part by outlaw bounti hunters, refer to as \"cowboys.\" the ragtag team aboard the spaceship bebop are two such individuals. mellow and carefre spike spiegel is balanc by hi boisterous, pragmat partner jet black as the pair make a live chase bounti and collect rewards. thrown off cours by the addit of new member that they meet in their travels—ein, a genet engineered, highli intellig welsh corgi; femm fatal fay valentine, an enigmat trickster with memori loss; and the strang comput whiz kid edward wong—th crew embark on thrill adventur that unravel each member\\' dark and mysteri past littl by little. well-balanc with high densiti action and light-heart comedy, cowboy bebop is a space western classic and an homag to the smooth and improvis music it is name after.'"
      ]
     },
     "execution_count": 335,
     "metadata": {},
     "output_type": "execute_result"
    }
   ],
   "source": [
    "anime['tags'][0]"
   ]
  },
  {
   "cell_type": "code",
   "execution_count": 336,
   "id": "024f458a",
   "metadata": {},
   "outputs": [],
   "source": [
    "from sklearn.feature_extraction.text import CountVectorizer\n",
    "cv = CountVectorizer(max_features = 5000, stop_words=\"english\")"
   ]
  },
  {
   "cell_type": "code",
   "execution_count": 337,
   "id": "e4c5958a",
   "metadata": {},
   "outputs": [],
   "source": [
    "vectors = cv.fit_transform(anime['tags']).toarray()"
   ]
  },
  {
   "cell_type": "code",
   "execution_count": 338,
   "id": "72aba637",
   "metadata": {},
   "outputs": [
    {
     "data": {
      "text/plain": [
       "array([0, 0, 0, ..., 0, 0, 0], dtype=int64)"
      ]
     },
     "execution_count": 338,
     "metadata": {},
     "output_type": "execute_result"
    }
   ],
   "source": [
    "vectors[0]"
   ]
  },
  {
   "cell_type": "code",
   "execution_count": 339,
   "id": "758a754c",
   "metadata": {},
   "outputs": [
    {
     "name": "stderr",
     "output_type": "stream",
     "text": [
      "C:\\Users\\nikdu\\AppData\\Local\\Programs\\Python\\Python39\\lib\\site-packages\\sklearn\\utils\\deprecation.py:87: FutureWarning: Function get_feature_names is deprecated; get_feature_names is deprecated in 1.0 and will be removed in 1.2. Please use get_feature_names_out instead.\n",
      "  warnings.warn(msg, category=FutureWarning)\n"
     ]
    },
    {
     "data": {
      "text/plain": [
       "5000"
      ]
     },
     "execution_count": 339,
     "metadata": {},
     "output_type": "execute_result"
    }
   ],
   "source": [
    "len(cv.get_feature_names())"
   ]
  },
  {
   "cell_type": "code",
   "execution_count": 340,
   "id": "bed10770",
   "metadata": {},
   "outputs": [],
   "source": [
    "from sklearn.metrics.pairwise import cosine_similarity"
   ]
  },
  {
   "cell_type": "code",
   "execution_count": 365,
   "id": "3df166e1",
   "metadata": {},
   "outputs": [],
   "source": [
    "similar = cosine_similarity(vectors)"
   ]
  },
  {
   "cell_type": "code",
   "execution_count": 366,
   "id": "11f38244",
   "metadata": {},
   "outputs": [
    {
     "data": {
      "text/plain": [
       "array([0.11951619, 0.0827396 , 0.13380773, ..., 0.        , 0.03094922,\n",
       "       0.07378785])"
      ]
     },
     "execution_count": 366,
     "metadata": {},
     "output_type": "execute_result"
    }
   ],
   "source": [
    "similar[5]"
   ]
  },
  {
   "cell_type": "code",
   "execution_count": 367,
   "id": "3f6eeb86",
   "metadata": {},
   "outputs": [
    {
     "data": {
      "text/plain": [
       "[(16182, 0.4877614343153735),\n",
       " (7356, 0.4712931697747643),\n",
       " (9704, 0.4695829713364263),\n",
       " (7014, 0.43281515057855113),\n",
       " (2009, 0.43208249093194817)]"
      ]
     },
     "execution_count": 367,
     "metadata": {},
     "output_type": "execute_result"
    }
   ],
   "source": [
    "sorted(list(enumerate(similar[5])), reverse=True, key=lambda x: x[1])[1:6]"
   ]
  },
  {
   "cell_type": "code",
   "execution_count": 344,
   "id": "c8db0871",
   "metadata": {},
   "outputs": [
    {
     "data": {
      "text/plain": [
       "'Eyeshield 21'"
      ]
     },
     "execution_count": 344,
     "metadata": {},
     "output_type": "execute_result"
    }
   ],
   "source": [
    "anime.iloc[5].Name"
   ]
  },
  {
   "cell_type": "code",
   "execution_count": 360,
   "id": "f1e5b7b6",
   "metadata": {},
   "outputs": [
    {
     "data": {
      "text/plain": [
       "2"
      ]
     },
     "execution_count": 360,
     "metadata": {},
     "output_type": "execute_result"
    }
   ],
   "source": [
    "anime[anime['Name'] == 'Trigun'].index[0]"
   ]
  },
  {
   "cell_type": "code",
   "execution_count": 368,
   "id": "53eb882b",
   "metadata": {},
   "outputs": [],
   "source": [
    "def recommend_anime(obj):\n",
    "    index = anime[anime['Name'] == obj].index[0]\n",
    "    distances = similar[index]\n",
    "    anime_list = sorted(list(enumerate(distances)), reverse=True, key=lambda x: x[1])[1:6]\n",
    "    for i in anime_list:\n",
    "        print(anime.iloc[i[0]].Name)"
   ]
  },
  {
   "cell_type": "code",
   "execution_count": 369,
   "id": "1cb0948c",
   "metadata": {},
   "outputs": [
    {
     "name": "stdout",
     "output_type": "stream",
     "text": [
      "Mob Psycho 100 II\n",
      "Saiki Kusuo no Ψ-nan: Ψ-shidou-hen\n",
      "Cike Wu Liuqi\n",
      "Yume Senshi Wingman\n",
      "Mitsume ga Tooru\n"
     ]
    }
   ],
   "source": [
    "recommend_anime('Mob Psycho 100')"
   ]
  },
  {
   "cell_type": "code",
   "execution_count": 371,
   "id": "62796f77",
   "metadata": {},
   "outputs": [],
   "source": [
    "import pickle\n",
    "pickle.dump(similar, open('similar.pkl', 'wb'))\n",
    "pickle.dump(anime.to_dict(), open('anime_dict.pkl', 'wb'))"
   ]
  },
  {
   "cell_type": "code",
   "execution_count": null,
   "id": "8c164552",
   "metadata": {},
   "outputs": [],
   "source": []
  }
 ],
 "metadata": {
  "kernelspec": {
   "display_name": "Python 3 (ipykernel)",
   "language": "python",
   "name": "python3"
  },
  "language_info": {
   "codemirror_mode": {
    "name": "ipython",
    "version": 3
   },
   "file_extension": ".py",
   "mimetype": "text/x-python",
   "name": "python",
   "nbconvert_exporter": "python",
   "pygments_lexer": "ipython3",
   "version": "3.9.7"
  }
 },
 "nbformat": 4,
 "nbformat_minor": 5
}
